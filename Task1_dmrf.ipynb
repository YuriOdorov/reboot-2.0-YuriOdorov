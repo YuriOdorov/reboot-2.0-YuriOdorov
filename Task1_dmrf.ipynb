{
 "cells": [
  {
   "cell_type": "markdown",
   "metadata": {
    "toc": true
   },
   "source": [
    "<h1>Table of Contents<span class=\"tocSkip\"></span></h1>\n",
    "<div class=\"toc\"><ul class=\"toc-item\"><li><span><a href=\"#Задание\" data-toc-modified-id=\"Задание-1\"><span class=\"toc-item-num\">1&nbsp;&nbsp;</span>Задание</a></span></li><li><span><a href=\"#Задание\" data-toc-modified-id=\"Задание-2\"><span class=\"toc-item-num\">2&nbsp;&nbsp;</span>Задание</a></span></li><li><span><a href=\"#Выполнение-задания\" data-toc-modified-id=\"Выполнение-задания-3\"><span class=\"toc-item-num\">3&nbsp;&nbsp;</span>Выполнение задания</a></span><ul class=\"toc-item\"><li><span><a href=\"#Задание-1\" data-toc-modified-id=\"Задание-1-3.1\"><span class=\"toc-item-num\">3.1&nbsp;&nbsp;</span>Задание 1</a></span></li></ul></li><li><span><a href=\"#Данные-по-определенному-объекту\" data-toc-modified-id=\"Данные-по-определенному-объекту-4\"><span class=\"toc-item-num\">4&nbsp;&nbsp;</span>Данные по определенному объекту</a></span></li></ul></div>"
   ]
  },
  {
   "cell_type": "markdown",
   "metadata": {
    "pycharm": {
     "name": "#%% md\n"
    }
   },
   "source": [
    "[![Open In Colab](https://colab.research.google.com/assets/colab-badge.svg)](https://colab.research.google.com/github/ds-reboot/python-first-part/blob/main/notebooks/hometasks/Task1_dmrf.ipynb)"
   ]
  },
  {
   "cell_type": "markdown",
   "metadata": {
    "pycharm": {
     "name": "#%% md\n"
    }
   },
   "source": [
    "# Задание\n",
    "* Собрать информацию о всех строящихся объектах на сайте \"наш.дом.рф\"\n",
    "* Cохранить ее в pandas dataframe\n",
    "* Cохранить pandas dataframe в excel\n",
    "* Cохранить pandas dataframe в pickle\n",
    "* Cохранить pandas dataframe в БД\n",
    "\n",
    "# Задание \n",
    "* Написать скрипт, который скачивает фотографии всех строящихся объектов с сайта \"наш.дом.рф\"\n"
   ]
  },
  {
   "cell_type": "markdown",
   "metadata": {},
   "source": [
    "# Выполнение задания"
   ]
  },
  {
   "cell_type": "markdown",
   "metadata": {},
   "source": [
    "## Задание 1"
   ]
  },
  {
   "cell_type": "code",
   "execution_count": 1,
   "metadata": {
    "pycharm": {
     "name": "#%%\n"
    }
   },
   "outputs": [],
   "source": [
    "import requests\n",
    "import tqdm\n",
    "import pandas as pd\n",
    "import sqlite3"
   ]
  },
  {
   "cell_type": "code",
   "execution_count": 16,
   "metadata": {},
   "outputs": [],
   "source": [
    "class DomIdLoader:\n",
    "    def __init__(self):\n",
    "        self.offset_ = 1\n",
    "        self.limit_ = 1000\n",
    "        self.objids = []\n",
    "        self.all_data_domrf = []\n",
    "        self.page = ''\n",
    "        self.data_df = None\n",
    "\n",
    "\n",
    "    def get_objId(self):\n",
    "        for _ in range(15):\n",
    "            try:\n",
    "                url = f'https://xn--80az8a.xn--d1aqf.xn--p1ai/%D1%81%D0%B5%D1%80%D0%B2%D0%B8%D1%81%D1%8B/api/kn/object?offset={self.offset_}&limit={self.limit_}&sortField=devId.devShortCleanNm&sortType=asc&objStatus=0'\n",
    "                res = (requests.get(url))\n",
    "                objects_data = (res.json())\n",
    "                objects_data.get('data').get('list')\n",
    "                objects_list = objects_data.get('data').get('list')\n",
    "                self.objids += [x.get('objId') for x in objects_list]\n",
    "                self.offset_ += 1000\n",
    "                self.limit_ += 1000\n",
    "            except:\n",
    "                print('No more data')\n",
    "                self.objids = set(self.objids)\n",
    "        self.objids = list(self.objids)\n",
    "        print(\"ID объектов с сайта ДОМ РФ собраны!\")\n",
    "\n",
    "    def get_data(self):\n",
    "        for i in (range(len(self.objids))):\n",
    "            url = f'https://xn--80az8a.xn--d1aqf.xn--p1ai/%D1%81%D0%B5%D1%80%D0%B2%D0%B8%D1%81%D1%8B/api/object/{self.objids[i]}'\n",
    "            res = requests.get(url)\n",
    "            res = res.json()\n",
    "            all_data = res.get('data')\n",
    "            if 'developer' in all_data:\n",
    "                all_data.update(all_data['developer'])\n",
    "                all_data.pop('developer')\n",
    "            if 'quartography' in all_data:\n",
    "                all_data.update(all_data['quartography'])\n",
    "                all_data.pop('quartography')\n",
    "            self.all_data_domrf.append(all_data)\n",
    "        print(\"Выгружены данные по объектам\")\n",
    "\n",
    "    def make_data_dataframe(self):\n",
    "        print(\"Создан DataFrame\")\n",
    "        return pd.DataFrame(self.all_data_domrf)\n",
    "        \n",
    "    \n",
    "    def get_df_with_data(self):\n",
    "        self.get_objId()\n",
    "        self.get_data()\n",
    "        self.make_data_dataframe()\n",
    "        self.data_df = self.make_data_dataframe()\n",
    "        return self.data_df"
   ]
  },
  {
   "cell_type": "code",
   "execution_count": 17,
   "metadata": {
    "scrolled": false
   },
   "outputs": [
    {
     "name": "stdout",
     "output_type": "stream",
     "text": [
      "No more data\n",
      "No more data\n",
      "No more data\n",
      "No more data\n",
      "No more data\n",
      "No more data\n",
      "No more data\n",
      "No more data\n",
      "No more data\n",
      "No more data\n",
      "No more data\n",
      "No more data\n",
      "No more data\n",
      "ID объектов с сайта ДОМ РФ собраны!\n",
      "Выгружены данные по объектам\n",
      "Создан DataFrame\n",
      "Создан DataFrame\n"
     ]
    }
   ],
   "source": [
    "DomIdLoader = DomIdLoader()\n",
    "Data = DomIdLoader.get_df_with_data()"
   ]
  },
  {
   "cell_type": "code",
   "execution_count": 15,
   "metadata": {},
   "outputs": [
    {
     "data": {
      "text/plain": [
       "1000"
      ]
     },
     "execution_count": 15,
     "metadata": {},
     "output_type": "execute_result"
    }
   ],
   "source": [
    "len(Data)"
   ]
  },
  {
   "cell_type": "code",
   "execution_count": 5,
   "metadata": {},
   "outputs": [],
   "source": [
    "class Saver:\n",
    "    def __init__(self, data):\n",
    "        self.data = data\n",
    "        self.file_name = 'Data'\n",
    "        self.conn = sqlite3.connect('skills_database')        \n",
    "\n",
    "    def save_csv(self):\n",
    "        self.data.to_csv(f'{self.file_name}.csv', index=False)\n",
    "        print(f'Dataset сохранён в файл {self.file_name}.csv')\n",
    "\n",
    "    def save_xl(self):\n",
    "        self.data.to_excel(f'{self.file_name}.xlsx', index=False)\n",
    "        print(f'Dataset сохранён в файл {self.file_name}.xlsx')\n",
    "\n",
    "    def save_sql(self):\n",
    "        self.data.to_sql(f'{self.file_name}', self.conn, if_exists='replace', index = False)\n",
    "        self.conn.commit()\n",
    "        self.conn.close()\n",
    "        print(f'Dataset сохранён в файл {self.file_name}.csv')\n",
    "        \n",
    "    def save_pcl(self):\n",
    "        self.data.to_pickle(f'{self.file_name}.pkl')\n",
    "        print(f'Dataset сохранён в файл {self.file_name}.pkl')"
   ]
  },
  {
   "cell_type": "code",
   "execution_count": 18,
   "metadata": {},
   "outputs": [
    {
     "name": "stdout",
     "output_type": "stream",
     "text": [
      "Dataset сохранён в файл Data.xlsx\n"
     ]
    }
   ],
   "source": [
    "Saver_ = Saver(Data)\n",
    "Saver_.save_xl()"
   ]
  },
  {
   "cell_type": "code",
   "execution_count": 19,
   "metadata": {},
   "outputs": [],
   "source": [
    "df = pd.read_csv('Data.csv')"
   ]
  },
  {
   "cell_type": "code",
   "execution_count": 20,
   "metadata": {},
   "outputs": [
    {
     "data": {
      "text/plain": [
       "7000"
      ]
     },
     "execution_count": 20,
     "metadata": {},
     "output_type": "execute_result"
    }
   ],
   "source": [
    "len(df)"
   ]
  },
  {
   "cell_type": "code",
   "execution_count": null,
   "metadata": {},
   "outputs": [],
   "source": []
  },
  {
   "cell_type": "code",
   "execution_count": null,
   "metadata": {},
   "outputs": [],
   "source": []
  },
  {
   "cell_type": "code",
   "execution_count": null,
   "metadata": {},
   "outputs": [],
   "source": [
    "class PhotoLoader:\n",
    "    def __init__(self):\n",
    "        self.offset_ = 1\n",
    "        self.limit_ = 10\n",
    "        self.all_photo_domrf = []\n",
    "        self.objids = []\n",
    "        self.page = ''\n",
    "        self.name_photo = 0\n",
    "\n",
    "    def get_objId(self):\n",
    "        url = f'https://xn--80az8a.xn--d1aqf.xn--p1ai/%D1%81%D0%B5%D1%80%D0%B2%D0%B8%D1%81%D1%8B/api/kn/object?offset={self.offset_}&limit={self.limit_}&sortField=devId.devShortCleanNm&sortType=asc&objStatus=0'\n",
    "        res = (requests.get(url))\n",
    "        objects_data = (res.json())\n",
    "        objects_data.get('data').get('list')\n",
    "        objects_list = objects_data.get('data').get('list')\n",
    "        objids = [x.get('objId') for x in objects_list]\n",
    "        self.objids.extend(objids)\n",
    "        print(\"ID объектов с сайта ДОМ РФ собраны!\")\n",
    "\n",
    "    def get_photo_url(self):\n",
    "        for i in (range(len(self.objids))):\n",
    "            url = f'https://xn--80az8a.xn--d1aqf.xn--p1ai/%D1%81%D0%B5%D1%80%D0%B2%D0%B8%D1%81%D1%8B/api/object/{self.objids[i]}'\n",
    "            res = requests.get(url)\n",
    "            res = res.json()\n",
    "            all_photo = res.get('data').get('photoRenderDTO')\n",
    "            for i in all_photo:\n",
    "                self.all_photo_domrf.append(i.get('objRenderPhotoUrl'))\n",
    "        print(\"Выгружены url фотографий в list\")\n",
    "        \n",
    "    def get_photo(self):\n",
    "        for img in self.all_photo_domrf:\n",
    "            self.name_photo += 1\n",
    "            p = requests.get(img)\n",
    "            out = open(f\"{self.name_photo}_photo.jpg\", \"wb\")\n",
    "            out.write(p.content)\n",
    "            out.close()\n",
    "        print(\"Фотографии выгружены\")\n",
    "\n",
    "    def get_all_photo(self):\n",
    "        self.get_objId()\n",
    "        self.get_photo_url()\n",
    "        self.get_photo()"
   ]
  },
  {
   "cell_type": "code",
   "execution_count": null,
   "metadata": {
    "pycharm": {
     "name": "#%%\n"
    }
   },
   "outputs": [],
   "source": [
    "PhotoLoader = PhotoLoader()\n",
    "Photo = PhotoLoader.get_all_photo()"
   ]
  },
  {
   "cell_type": "code",
   "execution_count": null,
   "metadata": {
    "pycharm": {
     "name": "#%%\n"
    }
   },
   "outputs": [],
   "source": []
  }
 ],
 "metadata": {
  "kernelspec": {
   "display_name": "Python 3 (ipykernel)",
   "language": "python",
   "name": "python3"
  },
  "language_info": {
   "codemirror_mode": {
    "name": "ipython",
    "version": 3
   },
   "file_extension": ".py",
   "mimetype": "text/x-python",
   "name": "python",
   "nbconvert_exporter": "python",
   "pygments_lexer": "ipython3",
   "version": "3.9.7"
  },
  "toc": {
   "base_numbering": 1,
   "nav_menu": {},
   "number_sections": true,
   "sideBar": true,
   "skip_h1_title": false,
   "title_cell": "Table of Contents",
   "title_sidebar": "Contents",
   "toc_cell": true,
   "toc_position": {},
   "toc_section_display": true,
   "toc_window_display": false
  }
 },
 "nbformat": 4,
 "nbformat_minor": 1
}
